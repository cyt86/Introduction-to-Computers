{
  "nbformat": 4,
  "nbformat_minor": 0,
  "metadata": {
    "colab": {
      "name": "0509.ipynb",
      "provenance": [],
      "collapsed_sections": [],
      "authorship_tag": "ABX9TyN2D2EkuFQ5LLu526y0zC4i",
      "include_colab_link": true
    },
    "kernelspec": {
      "name": "python3",
      "display_name": "Python 3"
    },
    "language_info": {
      "name": "python"
    }
  },
  "cells": [
    {
      "cell_type": "markdown",
      "metadata": {
        "id": "view-in-github",
        "colab_type": "text"
      },
      "source": [
        "<a href=\"https://colab.research.google.com/github/cyt86/Introduction-to-Computers/blob/main/0509.ipynb\" target=\"_parent\"><img src=\"https://colab.research.google.com/assets/colab-badge.svg\" alt=\"Open In Colab\"/></a>"
      ]
    },
    {
      "cell_type": "code",
      "execution_count": 1,
      "metadata": {
        "colab": {
          "base_uri": "https://localhost:8080/"
        },
        "id": "6A1gV2ejJFhN",
        "outputId": "935914a0-1a86-43cc-dd70-4cceae40ee20"
      },
      "outputs": [
        {
          "output_type": "stream",
          "name": "stdout",
          "text": [
            "123\n"
          ]
        }
      ],
      "source": [
        "print(\"123\")"
      ]
    },
    {
      "cell_type": "code",
      "source": [
        "temp = float(input(\"請輸入你的體溫\"))\n",
        "if temp >= 37.5:\n",
        "   print(\"體溫過高!\")\n",
        "elif temp >= 37 and temp < 37.4:\n",
        "  print(\"體溫略高!\")\n",
        "elif temp >= 34 and temp <= 36.9:\n",
        "  print(\"體溫正常!\")\n",
        "else:print(\"體溫異常，請重新量測!\")  \n"
      ],
      "metadata": {
        "colab": {
          "base_uri": "https://localhost:8080/"
        },
        "id": "yofibdX3Ky-P",
        "outputId": "6f480f5c-d3ab-415f-f671-d3365d703beb"
      },
      "execution_count": 3,
      "outputs": [
        {
          "output_type": "stream",
          "name": "stdout",
          "text": [
            "請輸入你的體溫36\n",
            "體溫正常!\n"
          ]
        }
      ]
    },
    {
      "cell_type": "code",
      "source": [
        "score = input(\"請輸入你的成績\")\n",
        "if (int(score) >= 90):\n",
        "  print(\"A\")\n",
        "elif (int(score) >= 80):\n",
        "  print(\"B\")\n",
        "elif(int(score) >= 70):\n",
        "  print(\"C\")\n",
        "elif (int(score) >= 60):\n",
        "  print(\"D\")\n",
        "else:\n",
        "  print(\"E\")"
      ],
      "metadata": {
        "colab": {
          "base_uri": "https://localhost:8080/"
        },
        "id": "jrt0mz6HM5KN",
        "outputId": "b4b0d747-87b1-4bb2-be98-240e9a8b8f5b"
      },
      "execution_count": 4,
      "outputs": [
        {
          "output_type": "stream",
          "name": "stdout",
          "text": [
            "請輸入你的成績57\n",
            "E\n"
          ]
        }
      ]
    },
    {
      "cell_type": "code",
      "source": [
        "money = int(input(\"請輸入購物金額:\"))\n",
        "if(money >= 10000):\n",
        "  if(money >= 100000):\n",
        "    print(\"八折\",money*0.8,end = \"元\\n\")\n",
        "  elif(money>=50000):\n",
        "    print(\"八五折\",money*0.85,end = \"元\\n\")\n",
        "  elif(money >= 30000):\n",
        "    print(\"九折\",money*0.9,end = \"元\\n\")\n",
        "  else:\n",
        "    print(\"九五折\",money*0.95,end = \"元\\n\")\n",
        "else:\n",
        " print(\"沒打折\",money,end = \"元\\n\")\n"
      ],
      "metadata": {
        "colab": {
          "base_uri": "https://localhost:8080/"
        },
        "id": "iTZgNTumPX-V",
        "outputId": "c30a1c33-2273-4cf1-e816-43cbf7677f69"
      },
      "execution_count": 4,
      "outputs": [
        {
          "output_type": "stream",
          "name": "stdout",
          "text": [
            "請輸入購物金額:40000\n",
            "九折 36000.0元\n"
          ]
        }
      ]
    },
    {
      "cell_type": "code",
      "source": [
        "month = int(input(\"請輸入月份:\"))\n",
        "if(month>2 and month<6):\n",
        "  print(month,'月是春天!')\n",
        "elif(month>5 and month<9):\n",
        "  print(month,'月是夏天!')\n",
        "elif(month>8 and month<12):\n",
        "  print(month,'月是秋天!')\n",
        "elif(month<13 and month>11 and month<3 and month>=1):\n",
        "  print(month,'月是冬天!')\n",
        "else:\n",
        "  print('月份不在範圍內!')    "
      ],
      "metadata": {
        "colab": {
          "base_uri": "https://localhost:8080/"
        },
        "id": "c4jfLAnXTTlb",
        "outputId": "27d98659-3a30-4e38-a6a5-f4f4538b5187"
      },
      "execution_count": 13,
      "outputs": [
        {
          "output_type": "stream",
          "name": "stdout",
          "text": [
            "請輸入月份:8\n",
            "8 月是夏天!\n"
          ]
        }
      ]
    },
    {
      "cell_type": "code",
      "source": [
        "收入 = int(input(\"請輸入今年收入淨額:\"))\n",
        "if(收入>=2000000):\n",
        "  print('賦稅金額:',收入*0.3,end = \"元\\n\")\n",
        "elif(收入>=1000000):\n",
        "   print('賦稅金額:',收入*0.21,end = \"元\\n\")\n",
        "elif(收入>=600000):\n",
        "   print('賦稅金額:',收入*0.13,end = \"元\\n\")\n",
        "elif(收入>=300000):\n",
        "   print('賦稅金額:',收入*0.06,end = \"元\\n\")\n",
        "else:\n",
        "  print('賦稅金額:0元')"
      ],
      "metadata": {
        "colab": {
          "base_uri": "https://localhost:8080/"
        },
        "id": "AgdAbL1W81RS",
        "outputId": "a8b8df50-76ae-4aee-c75d-5d1186367e4a"
      },
      "execution_count": 22,
      "outputs": [
        {
          "output_type": "stream",
          "name": "stdout",
          "text": [
            "請輸入今年收入淨額:650000\n",
            "賦稅金額: 84500.0元\n"
          ]
        }
      ]
    }
  ]
}