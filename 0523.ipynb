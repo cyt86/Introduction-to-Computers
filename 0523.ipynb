{
  "nbformat": 4,
  "nbformat_minor": 0,
  "metadata": {
    "colab": {
      "name": "0523.ipynb",
      "provenance": [],
      "collapsed_sections": [],
      "authorship_tag": "ABX9TyNM8El7dkxG969gsblssxZN",
      "include_colab_link": true
    },
    "kernelspec": {
      "name": "python3",
      "display_name": "Python 3"
    },
    "language_info": {
      "name": "python"
    }
  },
  "cells": [
    {
      "cell_type": "markdown",
      "metadata": {
        "id": "view-in-github",
        "colab_type": "text"
      },
      "source": [
        "<a href=\"https://colab.research.google.com/github/cyt86/Introduction-to-Computers/blob/main/0523.ipynb\" target=\"_parent\"><img src=\"https://colab.research.google.com/assets/colab-badge.svg\" alt=\"Open In Colab\"/></a>"
      ]
    },
    {
      "cell_type": "code",
      "execution_count": null,
      "metadata": {
        "colab": {
          "base_uri": "https://localhost:8080/"
        },
        "id": "O2JACruDbfbW",
        "outputId": "e48b7a22-f8cb-449f-dff8-3dcfa76ba6b4"
      },
      "outputs": [
        {
          "output_type": "stream",
          "name": "stdout",
          "text": [
            "0523\n"
          ]
        }
      ],
      "source": [
        "print(\"0523\")"
      ]
    },
    {
      "cell_type": "code",
      "source": [
        "test = int(input(\"請輸入一個正整數:\"))\n",
        "sum = 0\n",
        "for n in range(1,test+1):\n",
        "  sum = sum+n\n",
        "print(\"1到\", test, \"的整數和為\",sum)"
      ],
      "metadata": {
        "colab": {
          "base_uri": "https://localhost:8080/"
        },
        "id": "dKoSqLvKbnYF",
        "outputId": "ed274271-420e-43ed-b55d-eadc9d8381b1"
      },
      "execution_count": null,
      "outputs": [
        {
          "output_type": "stream",
          "name": "stdout",
          "text": [
            "請輸入一個正整數:10\n",
            "1到 10 的整數和為 55\n"
          ]
        }
      ]
    },
    {
      "cell_type": "code",
      "source": [
        "sum = 0\n",
        "test = int(input(\"請輸入一個正整數:\"))\n",
        "for m in range(1, test+1):\n",
        "  sum = sum+n\n",
        "  print(\"1到\",str(m),\"的整數和為\",sum)"
      ],
      "metadata": {
        "colab": {
          "base_uri": "https://localhost:8080/"
        },
        "id": "NeNk8akEbyp-",
        "outputId": "76c483c9-9f18-4005-f829-f4105a77daed"
      },
      "execution_count": null,
      "outputs": [
        {
          "output_type": "stream",
          "name": "stdout",
          "text": [
            "請輸入一個正整數:50\n",
            "1到 1 的整數和為 50\n",
            "1到 2 的整數和為 100\n",
            "1到 3 的整數和為 150\n",
            "1到 4 的整數和為 200\n",
            "1到 5 的整數和為 250\n",
            "1到 6 的整數和為 300\n",
            "1到 7 的整數和為 350\n",
            "1到 8 的整數和為 400\n",
            "1到 9 的整數和為 450\n",
            "1到 10 的整數和為 500\n",
            "1到 11 的整數和為 550\n",
            "1到 12 的整數和為 600\n",
            "1到 13 的整數和為 650\n",
            "1到 14 的整數和為 700\n",
            "1到 15 的整數和為 750\n",
            "1到 16 的整數和為 800\n",
            "1到 17 的整數和為 850\n",
            "1到 18 的整數和為 900\n",
            "1到 19 的整數和為 950\n",
            "1到 20 的整數和為 1000\n",
            "1到 21 的整數和為 1050\n",
            "1到 22 的整數和為 1100\n",
            "1到 23 的整數和為 1150\n",
            "1到 24 的整數和為 1200\n",
            "1到 25 的整數和為 1250\n",
            "1到 26 的整數和為 1300\n",
            "1到 27 的整數和為 1350\n",
            "1到 28 的整數和為 1400\n",
            "1到 29 的整數和為 1450\n",
            "1到 30 的整數和為 1500\n",
            "1到 31 的整數和為 1550\n",
            "1到 32 的整數和為 1600\n",
            "1到 33 的整數和為 1650\n",
            "1到 34 的整數和為 1700\n",
            "1到 35 的整數和為 1750\n",
            "1到 36 的整數和為 1800\n",
            "1到 37 的整數和為 1850\n",
            "1到 38 的整數和為 1900\n",
            "1到 39 的整數和為 1950\n",
            "1到 40 的整數和為 2000\n",
            "1到 41 的整數和為 2050\n",
            "1到 42 的整數和為 2100\n",
            "1到 43 的整數和為 2150\n",
            "1到 44 的整數和為 2200\n",
            "1到 45 的整數和為 2250\n",
            "1到 46 的整數和為 2300\n",
            "1到 47 的整數和為 2350\n",
            "1到 48 的整數和為 2400\n",
            "1到 49 的整數和為 2450\n",
            "1到 50 的整數和為 2500\n"
          ]
        }
      ]
    },
    {
      "cell_type": "code",
      "source": [
        "for j in range(1,5):\n",
        "  print(j)\n",
        "  for i in range(1,3):\n",
        "    k=i*j\n",
        "    print(j,\"*\",i,\"=\",k)\n"
      ],
      "metadata": {
        "colab": {
          "base_uri": "https://localhost:8080/"
        },
        "id": "uyoMCykJd6bw",
        "outputId": "f422e68a-f74d-41a5-a65c-167b89cf41ba"
      },
      "execution_count": null,
      "outputs": [
        {
          "output_type": "stream",
          "name": "stdout",
          "text": [
            "1\n",
            "1 * 1 = 1\n",
            "1 * 2 = 2\n",
            "2\n",
            "2 * 1 = 2\n",
            "2 * 2 = 4\n",
            "3\n",
            "3 * 1 = 3\n",
            "3 * 2 = 6\n",
            "4\n",
            "4 * 1 = 4\n",
            "4 * 2 = 8\n"
          ]
        }
      ]
    },
    {
      "cell_type": "code",
      "source": [
        "for j in range(1,5+1):\n",
        "  print(j)\n",
        "  for i in range(1,3):\n",
        "    k=i*j\n",
        "    print(j,\"*\",i,\"=\",k)"
      ],
      "metadata": {
        "colab": {
          "base_uri": "https://localhost:8080/"
        },
        "id": "IZHn8BXcfTdW",
        "outputId": "8ff662bc-f491-4d77-94d0-e4ff24f166ee"
      },
      "execution_count": null,
      "outputs": [
        {
          "output_type": "stream",
          "name": "stdout",
          "text": [
            "1\n",
            "1 * 1 = 1\n",
            "1 * 2 = 2\n",
            "2\n",
            "2 * 1 = 2\n",
            "2 * 2 = 4\n",
            "3\n",
            "3 * 1 = 3\n",
            "3 * 2 = 6\n",
            "4\n",
            "4 * 1 = 4\n",
            "4 * 2 = 8\n",
            "5\n",
            "5 * 1 = 5\n",
            "5 * 2 = 10\n"
          ]
        }
      ]
    },
    {
      "cell_type": "code",
      "source": [
        "for i in range(1,5):\n",
        "  if (i==4):\n",
        "    break\n",
        "  print(i,end=\" \")"
      ],
      "metadata": {
        "colab": {
          "base_uri": "https://localhost:8080/"
        },
        "id": "o-cnJ8MIgX6p",
        "outputId": "e185c982-f3a5-4b27-b4e0-5d831b34a36d"
      },
      "execution_count": null,
      "outputs": [
        {
          "output_type": "stream",
          "name": "stdout",
          "text": [
            "1 2 3 "
          ]
        }
      ]
    },
    {
      "cell_type": "code",
      "source": [
        "count = 0\n",
        "for string in '測試看看!':\n",
        "  count+=1\n",
        "  if string == '看!':\n",
        "    break\n",
        "    print(string)\n",
        "\n",
        "print('迴圈結束!')\n",
        "print('迴圈執行了 %d 次' %count)"
      ],
      "metadata": {
        "colab": {
          "base_uri": "https://localhost:8080/"
        },
        "id": "Mo3G9zrwgq7r",
        "outputId": "25703c21-10bc-49e1-f518-2869b944aa4e"
      },
      "execution_count": null,
      "outputs": [
        {
          "output_type": "stream",
          "name": "stdout",
          "text": [
            "迴圈結束!\n",
            "迴圈執行了 5 次\n"
          ]
        }
      ]
    },
    {
      "cell_type": "code",
      "source": [
        "count = 0\n",
        "for string in 'abc!':\n",
        "  count+=1\n",
        "  if string == 'c!':\n",
        "    break\n",
        "    print(string)\n",
        "\n",
        "print('迴圈結束!')\n",
        "print('迴圈執行了 %d 次' %count)"
      ],
      "metadata": {
        "colab": {
          "base_uri": "https://localhost:8080/"
        },
        "id": "dGJW4tWjhQGA",
        "outputId": "6047b095-7f1e-4ff5-d1e2-346e1dbc8961"
      },
      "execution_count": null,
      "outputs": [
        {
          "output_type": "stream",
          "name": "stdout",
          "text": [
            "迴圈結束!\n",
            "迴圈執行了 4 次\n"
          ]
        }
      ]
    },
    {
      "cell_type": "code",
      "source": [
        "for i in range(1,10):\n",
        "  for j in range(1,10):\n",
        "    print(f\"{j}*{i}={j*i}\", end=\"\\t\")\n",
        "  print()"
      ],
      "metadata": {
        "colab": {
          "base_uri": "https://localhost:8080/"
        },
        "id": "gI7MtlXclWDp",
        "outputId": "ecca431d-f228-4403-f6ad-e000fd9e76ec"
      },
      "execution_count": null,
      "outputs": [
        {
          "output_type": "stream",
          "name": "stdout",
          "text": [
            "1*1=1\t2*1=2\t3*1=3\t4*1=4\t5*1=5\t6*1=6\t7*1=7\t8*1=8\t9*1=9\t\n",
            "1*2=2\t2*2=4\t3*2=6\t4*2=8\t5*2=10\t6*2=12\t7*2=14\t8*2=16\t9*2=18\t\n",
            "1*3=3\t2*3=6\t3*3=9\t4*3=12\t5*3=15\t6*3=18\t7*3=21\t8*3=24\t9*3=27\t\n",
            "1*4=4\t2*4=8\t3*4=12\t4*4=16\t5*4=20\t6*4=24\t7*4=28\t8*4=32\t9*4=36\t\n",
            "1*5=5\t2*5=10\t3*5=15\t4*5=20\t5*5=25\t6*5=30\t7*5=35\t8*5=40\t9*5=45\t\n",
            "1*6=6\t2*6=12\t3*6=18\t4*6=24\t5*6=30\t6*6=36\t7*6=42\t8*6=48\t9*6=54\t\n",
            "1*7=7\t2*7=14\t3*7=21\t4*7=28\t5*7=35\t6*7=42\t7*7=49\t8*7=56\t9*7=63\t\n",
            "1*8=8\t2*8=16\t3*8=24\t4*8=32\t5*8=40\t6*8=48\t7*8=56\t8*8=64\t9*8=72\t\n",
            "1*9=9\t2*9=18\t3*9=27\t4*9=36\t5*9=45\t6*9=54\t7*9=63\t8*9=72\t9*9=81\t\n"
          ]
        }
      ]
    },
    {
      "cell_type": "code",
      "source": [
        ""
      ],
      "metadata": {
        "id": "_5--LKPBls7o"
      },
      "execution_count": null,
      "outputs": []
    }
  ]
}