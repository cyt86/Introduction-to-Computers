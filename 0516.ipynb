{
  "nbformat": 4,
  "nbformat_minor": 0,
  "metadata": {
    "colab": {
      "name": "0516.ipynb",
      "provenance": [],
      "collapsed_sections": [],
      "authorship_tag": "ABX9TyNmudAp+9Luve66K6FU/rxy",
      "include_colab_link": true
    },
    "kernelspec": {
      "name": "python3",
      "display_name": "Python 3"
    },
    "language_info": {
      "name": "python"
    }
  },
  "cells": [
    {
      "cell_type": "markdown",
      "metadata": {
        "id": "view-in-github",
        "colab_type": "text"
      },
      "source": [
        "<a href=\"https://colab.research.google.com/github/cyt86/Introduction-to-Computers/blob/main/0516.ipynb\" target=\"_parent\"><img src=\"https://colab.research.google.com/assets/colab-badge.svg\" alt=\"Open In Colab\"/></a>"
      ]
    },
    {
      "cell_type": "code",
      "execution_count": null,
      "metadata": {
        "colab": {
          "base_uri": "https://localhost:8080/"
        },
        "id": "VsHkzTnGGd2F",
        "outputId": "ed3cbe87-b732-4598-a41a-71b155055535"
      },
      "outputs": [
        {
          "output_type": "stream",
          "name": "stdout",
          "text": [
            "123\n"
          ]
        }
      ],
      "source": [
        "print(\"123\")"
      ]
    },
    {
      "cell_type": "code",
      "source": [
        "i=range(5)"
      ],
      "metadata": {
        "id": "MXin8LUoHeY6"
      },
      "execution_count": null,
      "outputs": []
    },
    {
      "cell_type": "code",
      "source": [
        "print(type(i))"
      ],
      "metadata": {
        "colab": {
          "base_uri": "https://localhost:8080/"
        },
        "id": "a0R4fsOpHkzX",
        "outputId": "c770658a-d41b-4341-c9a6-053d18f89b53"
      },
      "execution_count": null,
      "outputs": [
        {
          "output_type": "stream",
          "name": "stdout",
          "text": [
            "<class 'range'>\n"
          ]
        }
      ]
    },
    {
      "cell_type": "code",
      "source": [
        "print(i)"
      ],
      "metadata": {
        "colab": {
          "base_uri": "https://localhost:8080/"
        },
        "id": "4T7HFXD2Hp-W",
        "outputId": "7f73f8b9-d06c-4aa4-bad6-6b3aa78529a1"
      },
      "execution_count": null,
      "outputs": [
        {
          "output_type": "stream",
          "name": "stdout",
          "text": [
            "range(0, 5)\n"
          ]
        }
      ]
    },
    {
      "cell_type": "code",
      "source": [
        "print(list(i))"
      ],
      "metadata": {
        "colab": {
          "base_uri": "https://localhost:8080/"
        },
        "id": "z-IR2tUnHt20",
        "outputId": "2c0fffb8-1569-425f-d2d7-6aa220f8618c"
      },
      "execution_count": null,
      "outputs": [
        {
          "output_type": "stream",
          "name": "stdout",
          "text": [
            "[0, 1, 2, 3, 4]\n"
          ]
        }
      ]
    },
    {
      "cell_type": "code",
      "source": [
        "a = range(3,8)\n",
        "print(list(a))"
      ],
      "metadata": {
        "colab": {
          "base_uri": "https://localhost:8080/"
        },
        "id": "Ti2ts-9gHxaj",
        "outputId": "78330d89-7977-4727-e0a7-d2bdc84a62ec"
      },
      "execution_count": null,
      "outputs": [
        {
          "output_type": "stream",
          "name": "stdout",
          "text": [
            "[3, 4, 5, 6, 7]\n"
          ]
        }
      ]
    },
    {
      "cell_type": "code",
      "source": [
        "b = range(-2,4)\n",
        "print(list(b))"
      ],
      "metadata": {
        "colab": {
          "base_uri": "https://localhost:8080/"
        },
        "id": "xyyVDUDKH5oo",
        "outputId": "05974319-c33d-4a9c-f786-2cccaa3c67f4"
      },
      "execution_count": null,
      "outputs": [
        {
          "output_type": "stream",
          "name": "stdout",
          "text": [
            "[-2, -1, 0, 1, 2, 3]\n"
          ]
        }
      ]
    },
    {
      "cell_type": "code",
      "source": [
        "c = range(3,8,1)\n",
        "print(list(c))"
      ],
      "metadata": {
        "colab": {
          "base_uri": "https://localhost:8080/"
        },
        "id": "8uIXOPcmIDaq",
        "outputId": "e51112e6-c0ac-4a6a-9be3-6a90872c4b1c"
      },
      "execution_count": null,
      "outputs": [
        {
          "output_type": "stream",
          "name": "stdout",
          "text": [
            "[3, 4, 5, 6, 7]\n"
          ]
        }
      ]
    },
    {
      "cell_type": "code",
      "source": [
        "f = range(9)\n",
        "print(list(f))"
      ],
      "metadata": {
        "colab": {
          "base_uri": "https://localhost:8080/"
        },
        "id": "ajn0odBGINi3",
        "outputId": "c3fb19f9-e56a-4bda-f2fb-bfb98094ba59"
      },
      "execution_count": null,
      "outputs": [
        {
          "output_type": "stream",
          "name": "stdout",
          "text": [
            "[0, 1, 2, 3, 4, 5, 6, 7, 8]\n"
          ]
        }
      ]
    },
    {
      "cell_type": "code",
      "source": [
        "g = range(1,10)\n",
        "print(list(g))"
      ],
      "metadata": {
        "colab": {
          "base_uri": "https://localhost:8080/"
        },
        "id": "32F7yrffL5u-",
        "outputId": "71b46722-caa3-4b46-feac-69f7362fb042"
      },
      "execution_count": null,
      "outputs": [
        {
          "output_type": "stream",
          "name": "stdout",
          "text": [
            "[1, 2, 3, 4, 5, 6, 7, 8, 9]\n"
          ]
        }
      ]
    },
    {
      "cell_type": "code",
      "source": [
        "h = range(1,10,2)\n",
        "print(list(h))"
      ],
      "metadata": {
        "colab": {
          "base_uri": "https://localhost:8080/"
        },
        "id": "HpxjhX3_MNu_",
        "outputId": "1b7f520b-5b69-4dbb-e133-3fa33ab19711"
      },
      "execution_count": null,
      "outputs": [
        {
          "output_type": "stream",
          "name": "stdout",
          "text": [
            "[1, 3, 5, 7, 9]\n"
          ]
        }
      ]
    },
    {
      "cell_type": "code",
      "source": [
        "i = range(10,1,-2)\n",
        "print(list(i))"
      ],
      "metadata": {
        "colab": {
          "base_uri": "https://localhost:8080/"
        },
        "id": "MAs5OlYRMXSw",
        "outputId": "6c09533a-0d61-487e-e10e-569a895376f8"
      },
      "execution_count": null,
      "outputs": [
        {
          "output_type": "stream",
          "name": "stdout",
          "text": [
            "[10, 8, 6, 4, 2]\n"
          ]
        }
      ]
    },
    {
      "cell_type": "code",
      "source": [
        "for n in range(3):\n",
        "    print(n)"
      ],
      "metadata": {
        "colab": {
          "base_uri": "https://localhost:8080/"
        },
        "id": "l3NdQ-C-M2TW",
        "outputId": "4bf3e6cb-d7ef-42b8-aa20-00b58809f012"
      },
      "execution_count": null,
      "outputs": [
        {
          "output_type": "stream",
          "name": "stdout",
          "text": [
            "0\n",
            "1\n",
            "2\n"
          ]
        }
      ]
    },
    {
      "cell_type": "code",
      "source": [
        "for n in range(10):\n",
        "  print(n, end = \",\")"
      ],
      "metadata": {
        "colab": {
          "base_uri": "https://localhost:8080/"
        },
        "id": "XY6gwf0PNMVr",
        "outputId": "cb91bfd8-8e84-49b0-e3e5-9e50be975e82"
      },
      "execution_count": null,
      "outputs": [
        {
          "output_type": "stream",
          "name": "stdout",
          "text": [
            "0,1,2,3,4,5,6,7,8,9,"
          ]
        }
      ]
    },
    {
      "cell_type": "code",
      "source": [
        "for n in range(0,10,2):\n",
        "  print(n, end=\",\")"
      ],
      "metadata": {
        "colab": {
          "base_uri": "https://localhost:8080/"
        },
        "id": "prWMdyItNYot",
        "outputId": "f646d49e-d419-42bd-8ff5-0b396ab4145a"
      },
      "execution_count": null,
      "outputs": [
        {
          "output_type": "stream",
          "name": "stdout",
          "text": [
            "0,2,4,6,8,"
          ]
        }
      ]
    },
    {
      "cell_type": "code",
      "source": [
        "test = int(input(\"請輸入一個正整數:\"))\n",
        "for m in range(1, test+1):\n",
        "  print(m,end = \" \")"
      ],
      "metadata": {
        "colab": {
          "base_uri": "https://localhost:8080/"
        },
        "id": "gzCAIg1QOIo2",
        "outputId": "9073e946-0087-4670-c0cd-340845e83342"
      },
      "execution_count": null,
      "outputs": [
        {
          "output_type": "stream",
          "name": "stdout",
          "text": [
            "請輸入一個正整數:12\n",
            "1 2 3 4 5 6 7 8 9 10 11 12 "
          ]
        }
      ]
    },
    {
      "cell_type": "code",
      "source": [
        "sum = 0\n",
        "for n in range(3):\n",
        "  sum = sum+n\n",
        "print(sum)\n"
      ],
      "metadata": {
        "colab": {
          "base_uri": "https://localhost:8080/"
        },
        "id": "mne--OKgOtIs",
        "outputId": "f7f6e6c2-cfc9-45ac-d2aa-057f702cf20f"
      },
      "execution_count": null,
      "outputs": [
        {
          "output_type": "stream",
          "name": "stdout",
          "text": [
            "3\n"
          ]
        }
      ]
    },
    {
      "cell_type": "code",
      "source": [
        "sum = 0\n",
        "for n in range(10,1,-2):\n",
        "  sum = sum+n\n",
        "print(sum)"
      ],
      "metadata": {
        "colab": {
          "base_uri": "https://localhost:8080/"
        },
        "id": "X6bRmPXLPGE3",
        "outputId": "606b1101-d0cf-45e3-d34f-50750534394f"
      },
      "execution_count": null,
      "outputs": [
        {
          "output_type": "stream",
          "name": "stdout",
          "text": [
            "30\n"
          ]
        }
      ]
    },
    {
      "cell_type": "code",
      "source": [
        "test = int(input(\"請輸入一個正整數:\"))\n",
        "sum = 0\n",
        "for n in range(1,test+1):\n",
        "  sum = sum+n\n",
        "print(\"1到\", test, \"的整數和為\",sum)"
      ],
      "metadata": {
        "colab": {
          "base_uri": "https://localhost:8080/"
        },
        "id": "3-fj6RtxhEYI",
        "outputId": "66620158-c630-4cad-8d50-1f3b03ad928b"
      },
      "execution_count": null,
      "outputs": [
        {
          "output_type": "stream",
          "name": "stdout",
          "text": [
            "請輸入一個正整數:10\n",
            "1到 10 的整數和為 55\n"
          ]
        }
      ]
    },
    {
      "cell_type": "code",
      "source": [
        "sum = 0\n",
        "test = int(input(\"請輸入一個正整數:\"))\n",
        "for n in range(1, test+1):\n",
        "  sum = sum+n\n",
        "  print(\"1到\",test,\"的整數和為\",sum)\n"
      ],
      "metadata": {
        "id": "oqjknNzKlb3u",
        "colab": {
          "base_uri": "https://localhost:8080/"
        },
        "outputId": "1bb1f630-10be-4dad-ce3b-ed48f6bba1bd"
      },
      "execution_count": 7,
      "outputs": [
        {
          "output_type": "stream",
          "name": "stdout",
          "text": [
            "請輸入一個正整數:50\n",
            "1到 50 的整數和為 1\n",
            "1到 50 的整數和為 3\n",
            "1到 50 的整數和為 6\n",
            "1到 50 的整數和為 10\n",
            "1到 50 的整數和為 15\n",
            "1到 50 的整數和為 21\n",
            "1到 50 的整數和為 28\n",
            "1到 50 的整數和為 36\n",
            "1到 50 的整數和為 45\n",
            "1到 50 的整數和為 55\n",
            "1到 50 的整數和為 66\n",
            "1到 50 的整數和為 78\n",
            "1到 50 的整數和為 91\n",
            "1到 50 的整數和為 105\n",
            "1到 50 的整數和為 120\n",
            "1到 50 的整數和為 136\n",
            "1到 50 的整數和為 153\n",
            "1到 50 的整數和為 171\n",
            "1到 50 的整數和為 190\n",
            "1到 50 的整數和為 210\n",
            "1到 50 的整數和為 231\n",
            "1到 50 的整數和為 253\n",
            "1到 50 的整數和為 276\n",
            "1到 50 的整數和為 300\n",
            "1到 50 的整數和為 325\n",
            "1到 50 的整數和為 351\n",
            "1到 50 的整數和為 378\n",
            "1到 50 的整數和為 406\n",
            "1到 50 的整數和為 435\n",
            "1到 50 的整數和為 465\n",
            "1到 50 的整數和為 496\n",
            "1到 50 的整數和為 528\n",
            "1到 50 的整數和為 561\n",
            "1到 50 的整數和為 595\n",
            "1到 50 的整數和為 630\n",
            "1到 50 的整數和為 666\n",
            "1到 50 的整數和為 703\n",
            "1到 50 的整數和為 741\n",
            "1到 50 的整數和為 780\n",
            "1到 50 的整數和為 820\n",
            "1到 50 的整數和為 861\n",
            "1到 50 的整數和為 903\n",
            "1到 50 的整數和為 946\n",
            "1到 50 的整數和為 990\n",
            "1到 50 的整數和為 1035\n",
            "1到 50 的整數和為 1081\n",
            "1到 50 的整數和為 1128\n",
            "1到 50 的整數和為 1176\n",
            "1到 50 的整數和為 1225\n",
            "1到 50 的整數和為 1275\n"
          ]
        }
      ]
    }
  ]
}